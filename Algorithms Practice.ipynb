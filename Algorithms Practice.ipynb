{
 "cells": [
  {
   "cell_type": "markdown",
   "metadata": {},
   "source": [
    "# 算法练习"
   ]
  },
  {
   "cell_type": "code",
   "execution_count": 72,
   "metadata": {},
   "outputs": [],
   "source": [
    "import numpy as np\n",
    "import pandas as pd\n",
    "import matplotlib.pyplot as plt\n",
    "import os\n",
    "import sys\n",
    "from datetime import datetime"
   ]
  },
  {
   "cell_type": "markdown",
   "metadata": {},
   "source": [
    "## 插入排序算法"
   ]
  },
  {
   "cell_type": "code",
   "execution_count": 9,
   "metadata": {
    "scrolled": true
   },
   "outputs": [
    {
     "name": "stdout",
     "output_type": "stream",
     "text": [
      "[9, 10, 8, 7, 6, 5, 4, 3, 2, 1]\n",
      "[9, 8, 10, 7, 6, 5, 4, 3, 2, 1]\n",
      "[9, 8, 7, 10, 6, 5, 4, 3, 2, 1]\n",
      "[9, 8, 7, 6, 10, 5, 4, 3, 2, 1]\n",
      "[9, 8, 7, 6, 5, 10, 4, 3, 2, 1]\n",
      "[9, 8, 7, 6, 5, 4, 10, 3, 2, 1]\n",
      "[9, 8, 7, 6, 5, 4, 3, 10, 2, 1]\n",
      "[9, 8, 7, 6, 5, 4, 3, 2, 10, 1]\n",
      "[9, 8, 7, 6, 5, 4, 3, 2, 1, 10]\n",
      "[8, 9, 7, 6, 5, 4, 3, 2, 1, 10]\n",
      "[8, 7, 9, 6, 5, 4, 3, 2, 1, 10]\n",
      "[8, 7, 6, 9, 5, 4, 3, 2, 1, 10]\n",
      "[8, 7, 6, 5, 9, 4, 3, 2, 1, 10]\n",
      "[8, 7, 6, 5, 4, 9, 3, 2, 1, 10]\n",
      "[8, 7, 6, 5, 4, 3, 9, 2, 1, 10]\n",
      "[8, 7, 6, 5, 4, 3, 2, 9, 1, 10]\n",
      "[8, 7, 6, 5, 4, 3, 2, 1, 9, 10]\n",
      "[8, 7, 6, 5, 4, 3, 2, 1, 9, 10]\n",
      "[7, 8, 6, 5, 4, 3, 2, 1, 9, 10]\n",
      "[7, 6, 8, 5, 4, 3, 2, 1, 9, 10]\n",
      "[7, 6, 5, 8, 4, 3, 2, 1, 9, 10]\n",
      "[7, 6, 5, 4, 8, 3, 2, 1, 9, 10]\n",
      "[7, 6, 5, 4, 3, 8, 2, 1, 9, 10]\n",
      "[7, 6, 5, 4, 3, 2, 8, 1, 9, 10]\n",
      "[7, 6, 5, 4, 3, 2, 1, 8, 9, 10]\n",
      "[7, 6, 5, 4, 3, 2, 1, 8, 9, 10]\n",
      "[7, 6, 5, 4, 3, 2, 1, 8, 9, 10]\n",
      "[6, 7, 5, 4, 3, 2, 1, 8, 9, 10]\n",
      "[6, 5, 7, 4, 3, 2, 1, 8, 9, 10]\n",
      "[6, 5, 4, 7, 3, 2, 1, 8, 9, 10]\n",
      "[6, 5, 4, 3, 7, 2, 1, 8, 9, 10]\n",
      "[6, 5, 4, 3, 2, 7, 1, 8, 9, 10]\n",
      "[6, 5, 4, 3, 2, 1, 7, 8, 9, 10]\n",
      "[6, 5, 4, 3, 2, 1, 7, 8, 9, 10]\n",
      "[6, 5, 4, 3, 2, 1, 7, 8, 9, 10]\n",
      "[6, 5, 4, 3, 2, 1, 7, 8, 9, 10]\n",
      "[5, 6, 4, 3, 2, 1, 7, 8, 9, 10]\n",
      "[5, 4, 6, 3, 2, 1, 7, 8, 9, 10]\n",
      "[5, 4, 3, 6, 2, 1, 7, 8, 9, 10]\n",
      "[5, 4, 3, 2, 6, 1, 7, 8, 9, 10]\n",
      "[5, 4, 3, 2, 1, 6, 7, 8, 9, 10]\n",
      "[5, 4, 3, 2, 1, 6, 7, 8, 9, 10]\n",
      "[5, 4, 3, 2, 1, 6, 7, 8, 9, 10]\n",
      "[5, 4, 3, 2, 1, 6, 7, 8, 9, 10]\n",
      "[5, 4, 3, 2, 1, 6, 7, 8, 9, 10]\n",
      "[4, 5, 3, 2, 1, 6, 7, 8, 9, 10]\n",
      "[4, 3, 5, 2, 1, 6, 7, 8, 9, 10]\n",
      "[4, 3, 2, 5, 1, 6, 7, 8, 9, 10]\n",
      "[4, 3, 2, 1, 5, 6, 7, 8, 9, 10]\n",
      "[4, 3, 2, 1, 5, 6, 7, 8, 9, 10]\n",
      "[4, 3, 2, 1, 5, 6, 7, 8, 9, 10]\n",
      "[4, 3, 2, 1, 5, 6, 7, 8, 9, 10]\n",
      "[4, 3, 2, 1, 5, 6, 7, 8, 9, 10]\n",
      "[4, 3, 2, 1, 5, 6, 7, 8, 9, 10]\n",
      "[3, 4, 2, 1, 5, 6, 7, 8, 9, 10]\n",
      "[3, 2, 4, 1, 5, 6, 7, 8, 9, 10]\n",
      "[3, 2, 1, 4, 5, 6, 7, 8, 9, 10]\n",
      "[3, 2, 1, 4, 5, 6, 7, 8, 9, 10]\n",
      "[3, 2, 1, 4, 5, 6, 7, 8, 9, 10]\n",
      "[3, 2, 1, 4, 5, 6, 7, 8, 9, 10]\n",
      "[3, 2, 1, 4, 5, 6, 7, 8, 9, 10]\n",
      "[3, 2, 1, 4, 5, 6, 7, 8, 9, 10]\n",
      "[3, 2, 1, 4, 5, 6, 7, 8, 9, 10]\n",
      "[2, 3, 1, 4, 5, 6, 7, 8, 9, 10]\n",
      "[2, 1, 3, 4, 5, 6, 7, 8, 9, 10]\n",
      "[2, 1, 3, 4, 5, 6, 7, 8, 9, 10]\n",
      "[2, 1, 3, 4, 5, 6, 7, 8, 9, 10]\n",
      "[2, 1, 3, 4, 5, 6, 7, 8, 9, 10]\n",
      "[2, 1, 3, 4, 5, 6, 7, 8, 9, 10]\n",
      "[2, 1, 3, 4, 5, 6, 7, 8, 9, 10]\n",
      "[2, 1, 3, 4, 5, 6, 7, 8, 9, 10]\n",
      "[2, 1, 3, 4, 5, 6, 7, 8, 9, 10]\n",
      "[1, 2, 3, 4, 5, 6, 7, 8, 9, 10]\n",
      "[1, 2, 3, 4, 5, 6, 7, 8, 9, 10]\n",
      "[1, 2, 3, 4, 5, 6, 7, 8, 9, 10]\n",
      "[1, 2, 3, 4, 5, 6, 7, 8, 9, 10]\n",
      "[1, 2, 3, 4, 5, 6, 7, 8, 9, 10]\n",
      "[1, 2, 3, 4, 5, 6, 7, 8, 9, 10]\n",
      "[1, 2, 3, 4, 5, 6, 7, 8, 9, 10]\n",
      "[1, 2, 3, 4, 5, 6, 7, 8, 9, 10]\n",
      "[1, 2, 3, 4, 5, 6, 7, 8, 9, 10]\n",
      "81\n"
     ]
    }
   ],
   "source": [
    "array=list(range(10,0,-1))\n",
    "count=0\n",
    "for j in range(1,len(array)):\n",
    "    for i in range(1,len(array)):\n",
    "        temp = array[i]\n",
    "        if array[i]<array[i-1]:\n",
    "            array[i]=array[i-1]\n",
    "            array[i-1]=temp\n",
    "        count+=1\n",
    "        print(array)\n",
    "print(count)\n",
    "\n",
    "array=list(range(10,0,-1))\n",
    "count=0\n",
    "for i in range(1,len(array)):\n",
    "    temp=array[i]\n",
    "    for j in range(i,0,-1):\n",
    "        if array[j]<array[j-1]:\n",
    "            array[j]=array[j-1]\n",
    "            array[j-1]=temp\n",
    "        count+=1\n",
    "        print(array)\n",
    "print(count)"
   ]
  }
 ],
 "metadata": {
  "kernelspec": {
   "display_name": "Python 3",
   "language": "python",
   "name": "python3"
  },
  "language_info": {
   "codemirror_mode": {
    "name": "ipython",
    "version": 3
   },
   "file_extension": ".py",
   "mimetype": "text/x-python",
   "name": "python",
   "nbconvert_exporter": "python",
   "pygments_lexer": "ipython3",
   "version": "3.7.3"
  },
  "toc": {
   "base_numbering": 1,
   "nav_menu": {},
   "number_sections": true,
   "sideBar": true,
   "skip_h1_title": false,
   "title_cell": "Table of Contents",
   "title_sidebar": "Contents",
   "toc_cell": false,
   "toc_position": {},
   "toc_section_display": true,
   "toc_window_display": false
  },
  "varInspector": {
   "cols": {
    "lenName": 16,
    "lenType": 16,
    "lenVar": 40
   },
   "kernels_config": {
    "python": {
     "delete_cmd_postfix": "",
     "delete_cmd_prefix": "del ",
     "library": "var_list.py",
     "varRefreshCmd": "print(var_dic_list())"
    },
    "r": {
     "delete_cmd_postfix": ") ",
     "delete_cmd_prefix": "rm(",
     "library": "var_list.r",
     "varRefreshCmd": "cat(var_dic_list()) "
    }
   },
   "types_to_exclude": [
    "module",
    "function",
    "builtin_function_or_method",
    "instance",
    "_Feature"
   ],
   "window_display": false
  }
 },
 "nbformat": 4,
 "nbformat_minor": 2
}
