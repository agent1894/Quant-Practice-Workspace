{
 "cells": [
  {
   "cell_type": "markdown",
   "metadata": {},
   "source": [
    "算法练习\n",
    "\n",
    "根据&#60;Grokking Algorithms&#62; by Aditya Bhargava"
   ]
  },
  {
   "cell_type": "code",
   "execution_count": 3,
   "metadata": {},
   "outputs": [],
   "source": [
    "import numpy as np\n",
    "import pandas as pd\n",
    "import matplotlib.pyplot as plt\n",
    "import os\n",
    "import sys\n",
    "import datetime as dt"
   ]
  },
  {
   "cell_type": "markdown",
   "metadata": {},
   "source": [
    "# 算法简介"
   ]
  },
  {
   "cell_type": "markdown",
   "metadata": {},
   "source": [
    "## 算法复杂度"
   ]
  },
  {
   "cell_type": "markdown",
   "metadata": {},
   "source": [
    "大$O$表示法指出了最差情况下算法的运行时间，即算法运行时间的上限"
   ]
  },
  {
   "cell_type": "markdown",
   "metadata": {},
   "source": [
    "## 二分查找"
   ]
  },
  {
   "cell_type": "markdown",
   "metadata": {},
   "source": [
    "算法复杂度 $O(\\log n)$，前提条件为必须在已排序数组中使用"
   ]
  },
  {
   "cell_type": "code",
   "execution_count": 53,
   "metadata": {},
   "outputs": [
    {
     "name": "stdout",
     "output_type": "stream",
     "text": [
      "The Index of the Item is: 10\n"
     ]
    }
   ],
   "source": [
    "def binary_search(array, item):\n",
    "    low = 0\n",
    "    high = len(array)-1\n",
    "    while low < high-1:\n",
    "        mid = (low+high)//2\n",
    "        if item == array[mid]:\n",
    "            print('The Index of the Item is: {}'.format(mid))\n",
    "            return\n",
    "        elif item < array[mid]:\n",
    "            high = mid\n",
    "        else:\n",
    "            low = mid\n",
    "    print('No Such Item in the Array.')\n",
    "\n",
    "\n",
    "array = tuple(range(100))\n",
    "binary_search(array, 10)"
   ]
  },
  {
   "cell_type": "markdown",
   "metadata": {},
   "source": [
    "# 选择排序"
   ]
  },
  {
   "cell_type": "markdown",
   "metadata": {},
   "source": [
    "## 数据结构：数组与链表"
   ]
  },
  {
   "cell_type": "markdown",
   "metadata": {},
   "source": [
    "- 数组在内存中是相连的，如果添加新元素时内存对数组预留的空间不足，则需要重新分配内存并重新安排数组。\n",
    "- 链表中的元素存放在内存的任意位置，每个链表记录下个元素在内存中的位置。\n",
    "\n",
    "- 读取：\n",
    "数组$O(1)$，链表$O(n)$\n",
    "- 插入：\n",
    "数组$O(n)$，链表$O(1)$\n",
    "- 删除：\n",
    "数组$O(n)$，链表$O(1)$"
   ]
  },
  {
   "cell_type": "markdown",
   "metadata": {},
   "source": [
    "## 选择排序"
   ]
  }
 ],
 "metadata": {
  "kernelspec": {
   "display_name": "Python 3",
   "language": "python",
   "name": "python3"
  },
  "language_info": {
   "codemirror_mode": {
    "name": "ipython",
    "version": 2
   },
   "file_extension": ".py",
   "mimetype": "text/x-python",
   "name": "python",
   "nbconvert_exporter": "python",
   "pygments_lexer": "ipython2",
   "version": "2.7.15"
  },
  "toc": {
   "base_numbering": 1,
   "nav_menu": {},
   "number_sections": true,
   "sideBar": true,
   "skip_h1_title": false,
   "title_cell": "Table of Contents",
   "title_sidebar": "Contents",
   "toc_cell": false,
   "toc_position": {},
   "toc_section_display": true,
   "toc_window_display": false
  },
  "varInspector": {
   "cols": {
    "lenName": 16,
    "lenType": 16,
    "lenVar": 40
   },
   "kernels_config": {
    "python": {
     "delete_cmd_postfix": "",
     "delete_cmd_prefix": "del ",
     "library": "var_list.py",
     "varRefreshCmd": "print(var_dic_list())"
    },
    "r": {
     "delete_cmd_postfix": ") ",
     "delete_cmd_prefix": "rm(",
     "library": "var_list.r",
     "varRefreshCmd": "cat(var_dic_list()) "
    }
   },
   "types_to_exclude": [
    "module",
    "function",
    "builtin_function_or_method",
    "instance",
    "_Feature"
   ],
   "window_display": false
  }
 },
 "nbformat": 4,
 "nbformat_minor": 2
}
