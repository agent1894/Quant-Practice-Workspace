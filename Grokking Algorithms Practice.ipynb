{
 "cells": [
  {
   "cell_type": "markdown",
   "metadata": {},
   "source": [
    "算法练习\n",
    "\n",
    "根据&#60;Grokking Algorithms&#62; by Aditya Bhargava\n",
    "\n",
    "算法动图网站：https://visualgo.net/en"
   ]
  },
  {
   "cell_type": "code",
   "execution_count": 1,
   "metadata": {},
   "outputs": [],
   "source": [
    "import numpy as np\n",
    "import pandas as pd\n",
    "import matplotlib.pyplot as plt\n",
    "import os\n",
    "import sys\n",
    "import datetime as dt"
   ]
  },
  {
   "cell_type": "markdown",
   "metadata": {},
   "source": [
    "# 算法简介"
   ]
  },
  {
   "cell_type": "markdown",
   "metadata": {},
   "source": [
    "## 算法复杂度"
   ]
  },
  {
   "cell_type": "markdown",
   "metadata": {},
   "source": [
    "大$O$表示法指出了最差情况下算法的运行时间，即算法运行时间的上限"
   ]
  },
  {
   "cell_type": "markdown",
   "metadata": {},
   "source": [
    "## 二分查找"
   ]
  },
  {
   "cell_type": "markdown",
   "metadata": {},
   "source": [
    "算法复杂度 $O(\\log n)$，前提条件必须在已排序数组中使用"
   ]
  },
  {
   "cell_type": "code",
   "execution_count": 2,
   "metadata": {},
   "outputs": [
    {
     "name": "stdout",
     "output_type": "stream",
     "text": [
      "The Index of the Item is: 10\n"
     ]
    }
   ],
   "source": [
    "def binary_search(array, item):\n",
    "    low = 0\n",
    "    high = len(array)-1\n",
    "    while low < high-1:\n",
    "        mid = (low+high)//2\n",
    "        if item == array[mid]:\n",
    "            print('The Index of the Item is: {}'.format(mid))\n",
    "            return\n",
    "        elif item < array[mid]:\n",
    "            high = mid\n",
    "        else:\n",
    "            low = mid\n",
    "    print('No Such Item in the Array.')\n",
    "\n",
    "\n",
    "binary_search(list(range(100)), 10)"
   ]
  },
  {
   "cell_type": "markdown",
   "metadata": {},
   "source": [
    "# 选择排序"
   ]
  },
  {
   "cell_type": "markdown",
   "metadata": {},
   "source": [
    "## 数据结构：数组与链表"
   ]
  },
  {
   "cell_type": "markdown",
   "metadata": {},
   "source": [
    "- 数组在内存中是相连的，如果添加新元素时内存对数组预留的空间不足，则需要重新分配内存并重新安排数组。\n",
    "- 链表中的元素存放在内存的任意位置，每个链表记录下个元素在内存中的位置。\n",
    "\n",
    "- 读取：\n",
    "数组$O(1)$，链表$O(n)$\n",
    "- 插入：\n",
    "数组$O(n)$，链表$O(1)$\n",
    "- 删除：\n",
    "数组$O(n)$，链表$O(1)$"
   ]
  },
  {
   "cell_type": "markdown",
   "metadata": {},
   "source": [
    "## 选择排序"
   ]
  },
  {
   "cell_type": "markdown",
   "metadata": {},
   "source": [
    "算法复杂度$O(n^2)$"
   ]
  },
  {
   "cell_type": "code",
   "execution_count": 3,
   "metadata": {},
   "outputs": [
    {
     "data": {
      "text/plain": [
       "[0, 1, 2, 3, 4, 5, 6, 7, 8, 9]"
      ]
     },
     "execution_count": 3,
     "metadata": {},
     "output_type": "execute_result"
    }
   ],
   "source": [
    "# 最小值\n",
    "def find_smallest(array):\n",
    "    smallest_index = 0\n",
    "    for i in range(len(array)):\n",
    "        if array[i] < array[smallest_index]:\n",
    "            smallest_index = i\n",
    "    return smallest_index\n",
    "\n",
    "\n",
    "# 实现选择排序\n",
    "def selection_sort(array):\n",
    "    sorted_list = []\n",
    "    for i in range(len(array)):\n",
    "        sorted_list.append(array.pop(find_smallest(array)))\n",
    "    return sorted_list\n",
    "\n",
    "\n",
    "selection_sort([9, 3, 0, 5, 7, 8, 1, 4, 2, 6])"
   ]
  },
  {
   "cell_type": "markdown",
   "metadata": {},
   "source": [
    "# 递归"
   ]
  },
  {
   "cell_type": "markdown",
   "metadata": {},
   "source": [
    "## 基线条件和递归条件"
   ]
  },
  {
   "cell_type": "markdown",
   "metadata": {},
   "source": [
    "递归函数自己调用自己，为避免无限循环，每个递归函数都有两部分，基线条件(base case)和递归条件(recursive case)。\n",
    "- 递归条件指函数调用自己\n",
    "- 基线条件指函数不再调用自己"
   ]
  },
  {
   "cell_type": "markdown",
   "metadata": {},
   "source": [
    "## 栈"
   ]
  },
  {
   "cell_type": "markdown",
   "metadata": {},
   "source": [
    "栈也是一种数据结构，遵循后进先出（LIFO）原则。\n",
    "栈有两种基本操作：进栈（push, 压栈）和出栈（pop）\n",
    "调用栈是用来控制一系列子程序的栈，用于储存多个函数的栈称为调用栈。每调用一个程序，系统就会对这个程序分配一块内存，然后依次堆叠。当一个程序调用结束后，栈顶的内存块被弹出，从而返回到上一个程序。\n",
    "在调用另一个函数时，当前函数暂停，所有变量储存在内存中。"
   ]
  },
  {
   "cell_type": "markdown",
   "metadata": {},
   "source": [
    "# 快速排序"
   ]
  },
  {
   "cell_type": "markdown",
   "metadata": {},
   "source": [
    "## 分治法与递归"
   ]
  },
  {
   "cell_type": "code",
   "execution_count": 4,
   "metadata": {
    "scrolled": false
   },
   "outputs": [
    {
     "data": {
      "text/plain": [
       "12"
      ]
     },
     "execution_count": 4,
     "metadata": {},
     "output_type": "execute_result"
    }
   ],
   "source": [
    "# 使用递归的方式求列表元素和\n",
    "def recursion_sum(array):\n",
    "    if len(array) == 0:\n",
    "        return 0\n",
    "    else:\n",
    "        return array[0]+recursion_sum(array[1:])\n",
    "\n",
    "\n",
    "recursion_sum([2, 4, 6])"
   ]
  },
  {
   "cell_type": "code",
   "execution_count": 5,
   "metadata": {},
   "outputs": [
    {
     "data": {
      "text/plain": [
       "10"
      ]
     },
     "execution_count": 5,
     "metadata": {},
     "output_type": "execute_result"
    }
   ],
   "source": [
    "# 使用递归方式求列表元素数\n",
    "def recursion_count(array):\n",
    "    if len(array) == 0:\n",
    "        return 0\n",
    "    else:\n",
    "        return 1+recursion_count(array[1:])\n",
    "\n",
    "\n",
    "recursion_count(list(range(10)))"
   ]
  },
  {
   "cell_type": "code",
   "execution_count": 6,
   "metadata": {},
   "outputs": [
    {
     "name": "stdout",
     "output_type": "stream",
     "text": [
      "10\n",
      "10\n"
     ]
    }
   ],
   "source": [
    "# 使用递归方式求列表最大元素\n",
    "def recursion_max(array):\n",
    "    if len(array) == 0:\n",
    "        return None\n",
    "    else:\n",
    "        if array[0] >= recursion_max(array[1:]):\n",
    "            return array[0]\n",
    "        else:\n",
    "            return recursion_max(array[1:])\n",
    "\n",
    "\n",
    "# 使用递归方式求列表最大元素（书中答案）\n",
    "def recursion_max_book(list):\n",
    "    if len(list) == 2:\n",
    "        return list[0] if list[0] > list[1] else list[1]\n",
    "    sub_max = recursion_max_book(list[1:])\n",
    "    return list[0] if list[0] > sub_max else sub_max\n",
    "\n",
    "\n",
    "print(recursion_max([-11, 5, 2, 4, -8, 9, 3, 10]))\n",
    "print(recursion_max_book([-11, 5, 2, 4, -8, 9, 3, 10]))"
   ]
  },
  {
   "cell_type": "markdown",
   "metadata": {},
   "source": [
    "## 快速排序"
   ]
  },
  {
   "cell_type": "markdown",
   "metadata": {},
   "source": [
    "算法平均复杂度$O(n\\log n)$，最坏复杂度$O(n^2)$"
   ]
  },
  {
   "cell_type": "code",
   "execution_count": 7,
   "metadata": {},
   "outputs": [
    {
     "name": "stdout",
     "output_type": "stream",
     "text": [
      "[-11, -8, 2, 3, 4, 5, 9, 10]\n",
      "[-11, -8, 2, 3, 4, 5, 9, 10]\n"
     ]
    }
   ],
   "source": [
    "# 使用分治与递归实现快速排序\n",
    "def quick_sort(array):\n",
    "    if len(array) < 2:\n",
    "        return array\n",
    "    else:\n",
    "        pivot = array[0]\n",
    "        small_list = []\n",
    "        large_list = []\n",
    "        for i in array[1:]:\n",
    "            if i <= pivot:\n",
    "                small_list.append(i)\n",
    "            else:\n",
    "                large_list.append(i)\n",
    "        return quick_sort(small_list)+[pivot]+quick_sort(large_list)\n",
    "\n",
    "\n",
    "# 使用分治与递归实现快速排序（书中答案）\n",
    "def quick_sort_book(array):\n",
    "    if len(array) < 2:\n",
    "        return array\n",
    "    else:\n",
    "        pivot = array[0]\n",
    "        # 书中使用了列表推导式简化代码\n",
    "        less = [i for i in array[1:] if i <= pivot]\n",
    "        greater = [i for i in array[1:] if i > pivot]\n",
    "        return quick_sort_book(less)+[pivot]+quick_sort_book(greater)\n",
    "\n",
    "\n",
    "print(quick_sort([-11, 5, 2, 4, -8, 9, 3, 10]))\n",
    "print(quick_sort_book([-11, 5, 2, 4, -8, 9, 3, 10]))"
   ]
  },
  {
   "cell_type": "markdown",
   "metadata": {},
   "source": [
    "尽管使用大$O$表示复杂度时不同算法的大$O$可能相同，但是实际上，大$O$忽略了算法所需的固定时间量（*常量*）的部分。因此，有时候常量的影响会比较大。例如简单查找的复杂度为$O(n)$，而二分查找的复杂度为$O(\\log n)$，因此常量$c$的影响无关紧要，但是尽管快速排序和归并排序的平均算法复杂度均为$O(n\\log n)$，由于快速排序的常量$c$较小，因此很多时候快速排序的速度更快。\n",
    "\n",
    "计算复杂度时，可以先看平均情况下/最坏情况下，调用栈的高度$O()$，再看每层调用栈的时间$O()$，最后计算得出整体的算法时间复杂度。"
   ]
  },
  {
   "cell_type": "markdown",
   "metadata": {},
   "source": [
    "# 散列表（哈希表）"
   ]
  },
  {
   "cell_type": "markdown",
   "metadata": {},
   "source": [
    "散列表使用散列函数（哈希函数）将输入映射为一个数字，通过数字标定数组的索引，从而提高查找效率。\n",
    "- 散列函数要满足一致性，相同的输入要能产出相同的结果。\n",
    "- 如果不同的输入产出了相同的结果，则称为散列冲突，也称为哈希碰撞。显然，如果要存放10个数，分配10000个内存空间，碰撞的概率会非常低，但是造成了系统资源的浪费。\n",
    "因此，理想的散列函数的基础要求是简单易于计算，同时要能够在尽量小的空间上均匀分布产出的结果，同时尽量减少散列冲突的可能。\n",
    "*注意：散列冲突是无法避免的，因为输出的数量是给定的，而输入的数量是无限的，因此冲突是必然发生的。*"
   ]
  },
  {
   "cell_type": "markdown",
   "metadata": {},
   "source": [
    "散列表的应用：\n",
    "- 用来查找\n",
    "- 防止重复（因为只能有唯一的键值）\n",
    "- 用来缓存"
   ]
  },
  {
   "cell_type": "markdown",
   "metadata": {},
   "source": [
    "由于散列冲突不可避免，因此需要考虑如何解决散列冲突的问题。很常见的解决方法是先根据散列函数生成数组，每个散列函数指向这个数组的头部，后续一旦出现多个键值指向同一个位置的散列冲突，则在对应的数组后创建一个链表用以追加元素。但是这带来的问题是如果链表很长，则查询效率会大幅下降。*一个好的散列函数会避免产生过长的链表。*\n",
    "\n",
    "最差情况下，散列表的复杂度为$O(n)$，即链表（但是内存消耗更大）。\n",
    "\n",
    "填装因子=散列表包含的元素数/位置总数\n",
    "显然填充因子要小于等于1，因为一旦超过1则必然发生碰撞。理想的填充因子是0.7，一旦大于0.7则需要调整散列表的长度。"
   ]
  },
  {
   "cell_type": "code",
   "execution_count": null,
   "metadata": {},
   "outputs": [],
   "source": []
  }
 ],
 "metadata": {
  "kernelspec": {
   "display_name": "Python 3",
   "language": "python",
   "name": "python3"
  },
  "language_info": {
   "codemirror_mode": {
    "name": "ipython",
    "version": 2
   },
   "file_extension": ".py",
   "mimetype": "text/x-python",
   "name": "python",
   "nbconvert_exporter": "python",
   "pygments_lexer": "ipython2",
   "version": "2.7.15"
  },
  "toc": {
   "base_numbering": 1,
   "nav_menu": {},
   "number_sections": true,
   "sideBar": true,
   "skip_h1_title": false,
   "title_cell": "Table of Contents",
   "title_sidebar": "Contents",
   "toc_cell": false,
   "toc_position": {},
   "toc_section_display": true,
   "toc_window_display": false
  },
  "varInspector": {
   "cols": {
    "lenName": 16,
    "lenType": 16,
    "lenVar": 40
   },
   "kernels_config": {
    "python": {
     "delete_cmd_postfix": "",
     "delete_cmd_prefix": "del ",
     "library": "var_list.py",
     "varRefreshCmd": "print(var_dic_list())"
    },
    "r": {
     "delete_cmd_postfix": ") ",
     "delete_cmd_prefix": "rm(",
     "library": "var_list.r",
     "varRefreshCmd": "cat(var_dic_list()) "
    }
   },
   "types_to_exclude": [
    "module",
    "function",
    "builtin_function_or_method",
    "instance",
    "_Feature"
   ],
   "window_display": false
  }
 },
 "nbformat": 4,
 "nbformat_minor": 2
}
